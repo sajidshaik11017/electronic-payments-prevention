{
 "cells": [
  {
   "cell_type": "code",
   "execution_count": 12,
   "id": "b59aec9a",
   "metadata": {},
   "outputs": [
    {
     "name": "stdout",
     "output_type": "stream",
     "text": [
      "Running on local URL:  http://127.0.0.1:7869\n",
      "\n",
      "To create a public link, set `share=True` in `launch()`.\n"
     ]
    },
    {
     "data": {
      "text/html": [
       "<div><iframe src=\"http://127.0.0.1:7869/\" width=\"100%\" height=\"500\" allow=\"autoplay; camera; microphone; clipboard-read; clipboard-write;\" frameborder=\"0\" allowfullscreen></iframe></div>"
      ],
      "text/plain": [
       "<IPython.core.display.HTML object>"
      ]
     },
     "metadata": {},
     "output_type": "display_data"
    },
    {
     "data": {
      "text/plain": []
     },
     "execution_count": 12,
     "metadata": {},
     "output_type": "execute_result"
    }
   ],
   "source": [
    "import pickle\n",
    "import pandas as pd\n",
    "import gradio as gr\n",
    "\n",
    "# Load the trained model\n",
    "model = pickle.load(open('logistic_regression_model.pkl', 'rb'))\n",
    "\n",
    "def predict_is_fraud(amount, log_amount, balance_diff_orig, balance_diff_dest, type_CASH_OUT, type_TRANSFER, amount_mean_rolling, amount_oldbalanceOrg):\n",
    "    # Prepare the input data as a DataFrame\n",
    "    data = pd.DataFrame({\n",
    "        'amount': [amount],\n",
    "        'log_amount': [log_amount],\n",
    "        'balance_diff_orig': [balance_diff_orig],\n",
    "        'balance_diff_dest': [balance_diff_dest],\n",
    "        'type_CASH_OUT': [type_CASH_OUT],\n",
    "        'type_TRANSFER': [type_TRANSFER],\n",
    "        'amount_mean_rolling': [amount_mean_rolling],\n",
    "        'amount_oldbalanceOrg': [amount_oldbalanceOrg]\n",
    "    })\n",
    "\n",
    "    # Perform the prediction\n",
    "    prediction = model.predict(data)[0]\n",
    "    return \"Fraudulent\" if prediction == 1 else \"Not Fraudulent\"\n",
    "\n",
    "# Create the input components\n",
    "input_components = [\n",
    "    gr.inputs.Number(label=\"Amount\"),\n",
    "    gr.inputs.Number(label=\"Log Amount\"),\n",
    "    gr.inputs.Number(label=\"Balance Difference Origin\"),\n",
    "    gr.inputs.Number(label=\"Balance Difference Destination\"),\n",
    "    gr.inputs.Checkbox(label=\"Type CASH_OUT\"),\n",
    "    gr.inputs.Checkbox(label=\"Type TRANSFER\"),\n",
    "    gr.inputs.Number(label=\"Amount Mean Rolling\"),\n",
    "    gr.inputs.Number(label=\"Amount Old Balance Origin\")\n",
    "]\n",
    "\n",
    "# Create the interface\n",
    "interface = gr.Interface(\n",
    "    fn=predict_is_fraud,\n",
    "    inputs=input_components,\n",
    "    outputs=\"text\",\n",
    "    title=\"Fraud Detection\",\n",
    "    description=\"Predict if a transaction is fraudulent.\"\n",
    ")\n",
    "\n",
    "# Launch the interface\n",
    "interface.launch()\n"
   ]
  }
 ],
 "metadata": {
  "kernelspec": {
   "display_name": "Python 3 (ipykernel)",
   "language": "python",
   "name": "python3"
  },
  "language_info": {
   "codemirror_mode": {
    "name": "ipython",
    "version": 3
   },
   "file_extension": ".py",
   "mimetype": "text/x-python",
   "name": "python",
   "nbconvert_exporter": "python",
   "pygments_lexer": "ipython3",
   "version": "3.8.4"
  }
 },
 "nbformat": 4,
 "nbformat_minor": 5
}
